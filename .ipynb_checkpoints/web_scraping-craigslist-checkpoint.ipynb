{
 "cells": [
  {
   "cell_type": "code",
   "execution_count": 123,
   "metadata": {},
   "outputs": [],
   "source": [
    "# import dependencies\n",
    "import requests\n",
    "import json\n",
    "from bs4 import BeautifulSoup as bs\n",
    "import pandas as pd\n",
    "import numpy as np\n",
    "import pymongo\n",
    "import re as re\n",
    "\n",
    "# Output File (CSV)\n",
    "output_data_file = \"csv_outputs/craigslist_tools.csv\""
   ]
  },
  {
   "cell_type": "code",
   "execution_count": 124,
   "metadata": {},
   "outputs": [],
   "source": [
    "pg_num = 1\n",
    "pg_cnt = 0\n",
    "per_pg = 120\n",
    "query = 'tools'.replace(' ', '+')\n",
    "headers = {'User-Agent': 'Mozilla/5.0 (Macintosh; Intel Mac OS X 10_10_1) AppleWebKit/537.36 (KHTML, like Gecko) Chrome/39.0.2171.95 Safari/537.36'}\n",
    "url = 'https://toronto.craigslist.org/search/sss?query='+ str(query) + '&sort=rel&s=' + str(pg_cnt)"
   ]
  },
  {
   "cell_type": "code",
   "execution_count": 125,
   "metadata": {},
   "outputs": [],
   "source": [
    "result_set = []\n",
    "\n",
    "while True:\n",
    "        response = requests.get(url, headers=headers).text\n",
    "        soup = bs(response,  'html.parser')\n",
    "    \n",
    "        a = soup.find_all('li', class_='result-row') \n",
    "        \n",
    "        if len(a) == 0:\n",
    "                break\n",
    "        \n",
    "        else: \n",
    "                #loop through returned results\n",
    "                for item in a:\n",
    "                        \n",
    "                        #set empty variables\n",
    "                        mini_list = []\n",
    "                        mini_list.append(pg_num)\n",
    "\n",
    "                        #error handling\n",
    "                        try:\n",
    "                                #identify and return title of listing\n",
    "                                listing = item.find('a', class_='result-title').text\n",
    "                                mini_list.append(listing)\n",
    "                        except: \n",
    "                                mini_list.append('no name')\n",
    "        \n",
    "                        try: \n",
    "                                #identify and return price of listing\n",
    "                                price = item.find('span', class_='result-price').text\n",
    "                                mini_list.append(price)                                \n",
    "                        except: \n",
    "                                mini_list.append('$0.00')\n",
    "                                \n",
    "                        try:\n",
    "                                #identify and return url of listing                            \n",
    "                                item_url = item.find('a', class_='result-title hdrlnk')['href']\n",
    "                                mini_list.append(item_url)\n",
    "                        except: \n",
    "                                mini_list.append('noURL')\n",
    "                                \n",
    "                        result_set.append(mini_list) \n",
    "                \n",
    "                #iterate through pages\n",
    "                pg_cnt += per_pg\n",
    "                pg_num += 1\n",
    "                url = 'https://toronto.craigslist.org/search/sss?query='+ str(query) + '&sort=rel&s=' + str(pg_cnt)"
   ]
  },
  {
   "cell_type": "code",
   "execution_count": 126,
   "metadata": {},
   "outputs": [],
   "source": [
    "#establish dataframe from result set\n",
    "query_df = pd.DataFrame(result_set)"
   ]
  },
  {
   "cell_type": "code",
   "execution_count": 127,
   "metadata": {},
   "outputs": [
    {
     "data": {
      "text/html": [
       "<div>\n",
       "<style scoped>\n",
       "    .dataframe tbody tr th:only-of-type {\n",
       "        vertical-align: middle;\n",
       "    }\n",
       "\n",
       "    .dataframe tbody tr th {\n",
       "        vertical-align: top;\n",
       "    }\n",
       "\n",
       "    .dataframe thead th {\n",
       "        text-align: right;\n",
       "    }\n",
       "</style>\n",
       "<table border=\"1\" class=\"dataframe\">\n",
       "  <thead>\n",
       "    <tr style=\"text-align: right;\">\n",
       "      <th></th>\n",
       "      <th>0</th>\n",
       "      <th>1</th>\n",
       "      <th>2</th>\n",
       "      <th>3</th>\n",
       "    </tr>\n",
       "  </thead>\n",
       "  <tbody>\n",
       "    <tr>\n",
       "      <th>0</th>\n",
       "      <td>1</td>\n",
       "      <td>Wissota skate sharpening sharpener portable ma...</td>\n",
       "      <td>$0.00</td>\n",
       "      <td>https://toronto.craigslist.org/tor/tls/d/wisso...</td>\n",
       "    </tr>\n",
       "    <tr>\n",
       "      <th>1</th>\n",
       "      <td>1</td>\n",
       "      <td>Master Lock Red Lock out locks</td>\n",
       "      <td>$40</td>\n",
       "      <td>https://toronto.craigslist.org/yrk/tls/d/woodb...</td>\n",
       "    </tr>\n",
       "    <tr>\n",
       "      <th>2</th>\n",
       "      <td>1</td>\n",
       "      <td>MEN'S BLACK LEATHER STEEL-TOED SAFETY DRESS/WO...</td>\n",
       "      <td>$65</td>\n",
       "      <td>https://toronto.craigslist.org/tor/tls/d/toron...</td>\n",
       "    </tr>\n",
       "    <tr>\n",
       "      <th>3</th>\n",
       "      <td>1</td>\n",
       "      <td>NEW! CANADA PRO-FIX 24 and 30 INCH BOW SAW BLADES</td>\n",
       "      <td>$6</td>\n",
       "      <td>https://toronto.craigslist.org/tor/tls/d/new-c...</td>\n",
       "    </tr>\n",
       "    <tr>\n",
       "      <th>4</th>\n",
       "      <td>1</td>\n",
       "      <td>NEW!  TOOLWAY 3\" AND 4\" PAINT BRUSHES</td>\n",
       "      <td>$8</td>\n",
       "      <td>https://toronto.craigslist.org/tor/tls/d/new-t...</td>\n",
       "    </tr>\n",
       "  </tbody>\n",
       "</table>\n",
       "</div>"
      ],
      "text/plain": [
       "   0                                                  1      2  \\\n",
       "0  1  Wissota skate sharpening sharpener portable ma...  $0.00   \n",
       "1  1                     Master Lock Red Lock out locks    $40   \n",
       "2  1  MEN'S BLACK LEATHER STEEL-TOED SAFETY DRESS/WO...    $65   \n",
       "3  1  NEW! CANADA PRO-FIX 24 and 30 INCH BOW SAW BLADES     $6   \n",
       "4  1              NEW!  TOOLWAY 3\" AND 4\" PAINT BRUSHES     $8   \n",
       "\n",
       "                                                   3  \n",
       "0  https://toronto.craigslist.org/tor/tls/d/wisso...  \n",
       "1  https://toronto.craigslist.org/yrk/tls/d/woodb...  \n",
       "2  https://toronto.craigslist.org/tor/tls/d/toron...  \n",
       "3  https://toronto.craigslist.org/tor/tls/d/new-c...  \n",
       "4  https://toronto.craigslist.org/tor/tls/d/new-t...  "
      ]
     },
     "execution_count": 127,
     "metadata": {},
     "output_type": "execute_result"
    }
   ],
   "source": [
    "query_df.head(5)"
   ]
  },
  {
   "cell_type": "code",
   "execution_count": 128,
   "metadata": {},
   "outputs": [
    {
     "data": {
      "text/html": [
       "<div>\n",
       "<style scoped>\n",
       "    .dataframe tbody tr th:only-of-type {\n",
       "        vertical-align: middle;\n",
       "    }\n",
       "\n",
       "    .dataframe tbody tr th {\n",
       "        vertical-align: top;\n",
       "    }\n",
       "\n",
       "    .dataframe thead th {\n",
       "        text-align: right;\n",
       "    }\n",
       "</style>\n",
       "<table border=\"1\" class=\"dataframe\">\n",
       "  <thead>\n",
       "    <tr style=\"text-align: right;\">\n",
       "      <th></th>\n",
       "      <th>page</th>\n",
       "      <th>item</th>\n",
       "      <th>price</th>\n",
       "      <th>url</th>\n",
       "    </tr>\n",
       "  </thead>\n",
       "  <tbody>\n",
       "    <tr>\n",
       "      <th>0</th>\n",
       "      <td>1</td>\n",
       "      <td>Wissota skate sharpening sharpener portable ma...</td>\n",
       "      <td>$0.00</td>\n",
       "      <td>https://toronto.craigslist.org/tor/tls/d/wisso...</td>\n",
       "    </tr>\n",
       "    <tr>\n",
       "      <th>1</th>\n",
       "      <td>1</td>\n",
       "      <td>Master Lock Red Lock out locks</td>\n",
       "      <td>$40</td>\n",
       "      <td>https://toronto.craigslist.org/yrk/tls/d/woodb...</td>\n",
       "    </tr>\n",
       "    <tr>\n",
       "      <th>2</th>\n",
       "      <td>1</td>\n",
       "      <td>MEN'S BLACK LEATHER STEEL-TOED SAFETY DRESS/WO...</td>\n",
       "      <td>$65</td>\n",
       "      <td>https://toronto.craigslist.org/tor/tls/d/toron...</td>\n",
       "    </tr>\n",
       "    <tr>\n",
       "      <th>3</th>\n",
       "      <td>1</td>\n",
       "      <td>NEW! CANADA PRO-FIX 24 and 30 INCH BOW SAW BLADES</td>\n",
       "      <td>$6</td>\n",
       "      <td>https://toronto.craigslist.org/tor/tls/d/new-c...</td>\n",
       "    </tr>\n",
       "    <tr>\n",
       "      <th>4</th>\n",
       "      <td>1</td>\n",
       "      <td>NEW!  TOOLWAY 3\" AND 4\" PAINT BRUSHES</td>\n",
       "      <td>$8</td>\n",
       "      <td>https://toronto.craigslist.org/tor/tls/d/new-t...</td>\n",
       "    </tr>\n",
       "  </tbody>\n",
       "</table>\n",
       "</div>"
      ],
      "text/plain": [
       "   page                                               item  price  \\\n",
       "0     1  Wissota skate sharpening sharpener portable ma...  $0.00   \n",
       "1     1                     Master Lock Red Lock out locks    $40   \n",
       "2     1  MEN'S BLACK LEATHER STEEL-TOED SAFETY DRESS/WO...    $65   \n",
       "3     1  NEW! CANADA PRO-FIX 24 and 30 INCH BOW SAW BLADES     $6   \n",
       "4     1              NEW!  TOOLWAY 3\" AND 4\" PAINT BRUSHES     $8   \n",
       "\n",
       "                                                 url  \n",
       "0  https://toronto.craigslist.org/tor/tls/d/wisso...  \n",
       "1  https://toronto.craigslist.org/yrk/tls/d/woodb...  \n",
       "2  https://toronto.craigslist.org/tor/tls/d/toron...  \n",
       "3  https://toronto.craigslist.org/tor/tls/d/new-c...  \n",
       "4  https://toronto.craigslist.org/tor/tls/d/new-t...  "
      ]
     },
     "execution_count": 128,
     "metadata": {},
     "output_type": "execute_result"
    }
   ],
   "source": [
    "query_df.columns = [\"page\", \"item\", \"price\", \"url\"]\n",
    "query_df.head(5)"
   ]
  },
  {
   "cell_type": "code",
   "execution_count": 129,
   "metadata": {},
   "outputs": [
    {
     "data": {
      "text/plain": [
       "page      int64\n",
       "item     object\n",
       "price    object\n",
       "url      object\n",
       "dtype: object"
      ]
     },
     "execution_count": 129,
     "metadata": {},
     "output_type": "execute_result"
    }
   ],
   "source": [
    "# Identify incomplete rows\n",
    "query_df.dtypes"
   ]
  },
  {
   "cell_type": "code",
   "execution_count": 130,
   "metadata": {},
   "outputs": [
    {
     "data": {
      "text/plain": [
       "page     1119\n",
       "item     1119\n",
       "price    1119\n",
       "url      1119\n",
       "dtype: int64"
      ]
     },
     "execution_count": 130,
     "metadata": {},
     "output_type": "execute_result"
    }
   ],
   "source": [
    "# Drop all rows with missing information\n",
    "query_df = query_df.dropna(how='any')\n",
    "query_df.count()"
   ]
  },
  {
   "cell_type": "code",
   "execution_count": 131,
   "metadata": {},
   "outputs": [
    {
     "data": {
      "text/html": [
       "<div>\n",
       "<style scoped>\n",
       "    .dataframe tbody tr th:only-of-type {\n",
       "        vertical-align: middle;\n",
       "    }\n",
       "\n",
       "    .dataframe tbody tr th {\n",
       "        vertical-align: top;\n",
       "    }\n",
       "\n",
       "    .dataframe thead th {\n",
       "        text-align: right;\n",
       "    }\n",
       "</style>\n",
       "<table border=\"1\" class=\"dataframe\">\n",
       "  <thead>\n",
       "    <tr style=\"text-align: right;\">\n",
       "      <th></th>\n",
       "      <th>item</th>\n",
       "      <th>price</th>\n",
       "      <th>url</th>\n",
       "    </tr>\n",
       "  </thead>\n",
       "  <tbody>\n",
       "    <tr>\n",
       "      <th>0</th>\n",
       "      <td>Wissota skate sharpening sharpener portable ma...</td>\n",
       "      <td>$0.00</td>\n",
       "      <td>https://toronto.craigslist.org/tor/tls/d/wisso...</td>\n",
       "    </tr>\n",
       "    <tr>\n",
       "      <th>1</th>\n",
       "      <td>Master Lock Red Lock out locks</td>\n",
       "      <td>$40</td>\n",
       "      <td>https://toronto.craigslist.org/yrk/tls/d/woodb...</td>\n",
       "    </tr>\n",
       "    <tr>\n",
       "      <th>2</th>\n",
       "      <td>MEN'S BLACK LEATHER STEEL-TOED SAFETY DRESS/WO...</td>\n",
       "      <td>$65</td>\n",
       "      <td>https://toronto.craigslist.org/tor/tls/d/toron...</td>\n",
       "    </tr>\n",
       "    <tr>\n",
       "      <th>3</th>\n",
       "      <td>NEW! CANADA PRO-FIX 24 and 30 INCH BOW SAW BLADES</td>\n",
       "      <td>$6</td>\n",
       "      <td>https://toronto.craigslist.org/tor/tls/d/new-c...</td>\n",
       "    </tr>\n",
       "    <tr>\n",
       "      <th>4</th>\n",
       "      <td>NEW!  TOOLWAY 3\" AND 4\" PAINT BRUSHES</td>\n",
       "      <td>$8</td>\n",
       "      <td>https://toronto.craigslist.org/tor/tls/d/new-t...</td>\n",
       "    </tr>\n",
       "  </tbody>\n",
       "</table>\n",
       "</div>"
      ],
      "text/plain": [
       "                                                item  price  \\\n",
       "0  Wissota skate sharpening sharpener portable ma...  $0.00   \n",
       "1                     Master Lock Red Lock out locks    $40   \n",
       "2  MEN'S BLACK LEATHER STEEL-TOED SAFETY DRESS/WO...    $65   \n",
       "3  NEW! CANADA PRO-FIX 24 and 30 INCH BOW SAW BLADES     $6   \n",
       "4              NEW!  TOOLWAY 3\" AND 4\" PAINT BRUSHES     $8   \n",
       "\n",
       "                                                 url  \n",
       "0  https://toronto.craigslist.org/tor/tls/d/wisso...  \n",
       "1  https://toronto.craigslist.org/yrk/tls/d/woodb...  \n",
       "2  https://toronto.craigslist.org/tor/tls/d/toron...  \n",
       "3  https://toronto.craigslist.org/tor/tls/d/new-c...  \n",
       "4  https://toronto.craigslist.org/tor/tls/d/new-t...  "
      ]
     },
     "execution_count": 131,
     "metadata": {},
     "output_type": "execute_result"
    }
   ],
   "source": [
    "# Delete extraneous column\n",
    "del query_df['page']\n",
    "query_df.head()"
   ]
  },
  {
   "cell_type": "code",
   "execution_count": 132,
   "metadata": {},
   "outputs": [
    {
     "data": {
      "text/html": [
       "<div>\n",
       "<style scoped>\n",
       "    .dataframe tbody tr th:only-of-type {\n",
       "        vertical-align: middle;\n",
       "    }\n",
       "\n",
       "    .dataframe tbody tr th {\n",
       "        vertical-align: top;\n",
       "    }\n",
       "\n",
       "    .dataframe thead th {\n",
       "        text-align: right;\n",
       "    }\n",
       "</style>\n",
       "<table border=\"1\" class=\"dataframe\">\n",
       "  <thead>\n",
       "    <tr style=\"text-align: right;\">\n",
       "      <th></th>\n",
       "      <th>item</th>\n",
       "      <th>price</th>\n",
       "      <th>url</th>\n",
       "    </tr>\n",
       "  </thead>\n",
       "  <tbody>\n",
       "    <tr>\n",
       "      <th>0</th>\n",
       "      <td>Wissota skate sharpening sharpener portable ma...</td>\n",
       "      <td>0.00</td>\n",
       "      <td>https://toronto.craigslist.org/tor/tls/d/wisso...</td>\n",
       "    </tr>\n",
       "    <tr>\n",
       "      <th>1</th>\n",
       "      <td>Master Lock Red Lock out locks</td>\n",
       "      <td>40</td>\n",
       "      <td>https://toronto.craigslist.org/yrk/tls/d/woodb...</td>\n",
       "    </tr>\n",
       "    <tr>\n",
       "      <th>2</th>\n",
       "      <td>MEN'S BLACK LEATHER STEEL-TOED SAFETY DRESS/WO...</td>\n",
       "      <td>65</td>\n",
       "      <td>https://toronto.craigslist.org/tor/tls/d/toron...</td>\n",
       "    </tr>\n",
       "    <tr>\n",
       "      <th>3</th>\n",
       "      <td>NEW! CANADA PRO-FIX 24 and 30 INCH BOW SAW BLADES</td>\n",
       "      <td>6</td>\n",
       "      <td>https://toronto.craigslist.org/tor/tls/d/new-c...</td>\n",
       "    </tr>\n",
       "    <tr>\n",
       "      <th>4</th>\n",
       "      <td>NEW!  TOOLWAY 3\" AND 4\" PAINT BRUSHES</td>\n",
       "      <td>8</td>\n",
       "      <td>https://toronto.craigslist.org/tor/tls/d/new-t...</td>\n",
       "    </tr>\n",
       "  </tbody>\n",
       "</table>\n",
       "</div>"
      ],
      "text/plain": [
       "                                                item price  \\\n",
       "0  Wissota skate sharpening sharpener portable ma...  0.00   \n",
       "1                     Master Lock Red Lock out locks    40   \n",
       "2  MEN'S BLACK LEATHER STEEL-TOED SAFETY DRESS/WO...    65   \n",
       "3  NEW! CANADA PRO-FIX 24 and 30 INCH BOW SAW BLADES     6   \n",
       "4              NEW!  TOOLWAY 3\" AND 4\" PAINT BRUSHES     8   \n",
       "\n",
       "                                                 url  \n",
       "0  https://toronto.craigslist.org/tor/tls/d/wisso...  \n",
       "1  https://toronto.craigslist.org/yrk/tls/d/woodb...  \n",
       "2  https://toronto.craigslist.org/tor/tls/d/toron...  \n",
       "3  https://toronto.craigslist.org/tor/tls/d/new-c...  \n",
       "4  https://toronto.craigslist.org/tor/tls/d/new-t...  "
      ]
     },
     "execution_count": 132,
     "metadata": {},
     "output_type": "execute_result"
    }
   ],
   "source": [
    "# Make a copy of dataframe\n",
    "new_df = query_df.copy()\n",
    "\n",
    "# remove all dollar signs\n",
    "new_df['price'] = [x.strip('$') for x in query_df['price']]\n",
    "new_df.head()"
   ]
  },
  {
   "cell_type": "code",
   "execution_count": 133,
   "metadata": {},
   "outputs": [
    {
     "data": {
      "text/html": [
       "<div>\n",
       "<style scoped>\n",
       "    .dataframe tbody tr th:only-of-type {\n",
       "        vertical-align: middle;\n",
       "    }\n",
       "\n",
       "    .dataframe tbody tr th {\n",
       "        vertical-align: top;\n",
       "    }\n",
       "\n",
       "    .dataframe thead th {\n",
       "        text-align: right;\n",
       "    }\n",
       "</style>\n",
       "<table border=\"1\" class=\"dataframe\">\n",
       "  <thead>\n",
       "    <tr style=\"text-align: right;\">\n",
       "      <th></th>\n",
       "      <th>item</th>\n",
       "      <th>price</th>\n",
       "      <th>url</th>\n",
       "    </tr>\n",
       "  </thead>\n",
       "  <tbody>\n",
       "    <tr>\n",
       "      <th>0</th>\n",
       "      <td>Wissota skate sharpening sharpener portable ma...</td>\n",
       "      <td>0.00</td>\n",
       "      <td>https://toronto.craigslist.org/tor/tls/d/wisso...</td>\n",
       "    </tr>\n",
       "    <tr>\n",
       "      <th>1</th>\n",
       "      <td>Master Lock Red Lock out locks</td>\n",
       "      <td>40</td>\n",
       "      <td>https://toronto.craigslist.org/yrk/tls/d/woodb...</td>\n",
       "    </tr>\n",
       "    <tr>\n",
       "      <th>2</th>\n",
       "      <td>MEN'S BLACK LEATHER STEEL-TOED SAFETY DRESS/WO...</td>\n",
       "      <td>65</td>\n",
       "      <td>https://toronto.craigslist.org/tor/tls/d/toron...</td>\n",
       "    </tr>\n",
       "    <tr>\n",
       "      <th>3</th>\n",
       "      <td>NEW! CANADA PRO-FIX 24 and 30 INCH BOW SAW BLADES</td>\n",
       "      <td>6</td>\n",
       "      <td>https://toronto.craigslist.org/tor/tls/d/new-c...</td>\n",
       "    </tr>\n",
       "    <tr>\n",
       "      <th>4</th>\n",
       "      <td>NEW!  TOOLWAY 3\" AND 4\" PAINT BRUSHES</td>\n",
       "      <td>8</td>\n",
       "      <td>https://toronto.craigslist.org/tor/tls/d/new-t...</td>\n",
       "    </tr>\n",
       "  </tbody>\n",
       "</table>\n",
       "</div>"
      ],
      "text/plain": [
       "                                                item price  \\\n",
       "0  Wissota skate sharpening sharpener portable ma...  0.00   \n",
       "1                     Master Lock Red Lock out locks    40   \n",
       "2  MEN'S BLACK LEATHER STEEL-TOED SAFETY DRESS/WO...    65   \n",
       "3  NEW! CANADA PRO-FIX 24 and 30 INCH BOW SAW BLADES     6   \n",
       "4              NEW!  TOOLWAY 3\" AND 4\" PAINT BRUSHES     8   \n",
       "\n",
       "                                                 url  \n",
       "0  https://toronto.craigslist.org/tor/tls/d/wisso...  \n",
       "1  https://toronto.craigslist.org/yrk/tls/d/woodb...  \n",
       "2  https://toronto.craigslist.org/tor/tls/d/toron...  \n",
       "3  https://toronto.craigslist.org/tor/tls/d/new-c...  \n",
       "4  https://toronto.craigslist.org/tor/tls/d/new-t...  "
      ]
     },
     "execution_count": 133,
     "metadata": {},
     "output_type": "execute_result"
    }
   ],
   "source": [
    "#to_drop = ['electrician']\n",
    "#new_df[~new_df['item'].isin(to_drop)]\n",
    "dropped_df = new_df[~new_df['item'].isin(['lock'])]\n",
    "dropped_df.head()"
   ]
  },
  {
   "cell_type": "code",
   "execution_count": 146,
   "metadata": {},
   "outputs": [
    {
     "ename": "TypeError",
     "evalue": "unhashable type: 'list'",
     "output_type": "error",
     "traceback": [
      "\u001b[0;31m---------------------------------------------------------------------------\u001b[0m",
      "\u001b[0;31mTypeError\u001b[0m                                 Traceback (most recent call last)",
      "\u001b[0;32m<ipython-input-146-2608437ecaad>\u001b[0m in \u001b[0;36m<module>\u001b[0;34m()\u001b[0m\n\u001b[1;32m      3\u001b[0m \u001b[0;31m#dropped_df2\u001b[0m\u001b[0;34m\u001b[0m\u001b[0;34m\u001b[0m\u001b[0m\n\u001b[1;32m      4\u001b[0m \u001b[0;34m\u001b[0m\u001b[0m\n\u001b[0;32m----> 5\u001b[0;31m \u001b[0mdf\u001b[0m \u001b[0;34m=\u001b[0m \u001b[0mdropped_df\u001b[0m\u001b[0;34m[\u001b[0m\u001b[0;34m~\u001b[0m\u001b[0mdropped_df\u001b[0m\u001b[0;34m[\u001b[0m\u001b[0;34m'item'\u001b[0m\u001b[0;34m]\u001b[0m\u001b[0;34m.\u001b[0m\u001b[0mstr\u001b[0m\u001b[0;34m.\u001b[0m\u001b[0mcontains\u001b[0m\u001b[0;34m(\u001b[0m\u001b[0;34m[\u001b[0m\u001b[0;34m'locks'\u001b[0m\u001b[0;34m,\u001b[0m \u001b[0;34m'stick'\u001b[0m\u001b[0;34m]\u001b[0m\u001b[0;34m,\u001b[0m \u001b[0mflags\u001b[0m\u001b[0;34m=\u001b[0m\u001b[0mre\u001b[0m\u001b[0;34m.\u001b[0m\u001b[0mIGNORECASE\u001b[0m\u001b[0;34m)\u001b[0m\u001b[0;34m]\u001b[0m\u001b[0;34m\u001b[0m\u001b[0m\n\u001b[0m\u001b[1;32m      6\u001b[0m \u001b[0mdf\u001b[0m\u001b[0;34m.\u001b[0m\u001b[0mhead\u001b[0m\u001b[0;34m(\u001b[0m\u001b[0;34m)\u001b[0m\u001b[0;34m\u001b[0m\u001b[0m\n",
      "\u001b[0;32m~/anaconda3/lib/python3.7/site-packages/pandas/core/strings.py\u001b[0m in \u001b[0;36mcontains\u001b[0;34m(self, pat, case, flags, na, regex)\u001b[0m\n\u001b[1;32m   2415\u001b[0m     \u001b[0;32mdef\u001b[0m \u001b[0mcontains\u001b[0m\u001b[0;34m(\u001b[0m\u001b[0mself\u001b[0m\u001b[0;34m,\u001b[0m \u001b[0mpat\u001b[0m\u001b[0;34m,\u001b[0m \u001b[0mcase\u001b[0m\u001b[0;34m=\u001b[0m\u001b[0;32mTrue\u001b[0m\u001b[0;34m,\u001b[0m \u001b[0mflags\u001b[0m\u001b[0;34m=\u001b[0m\u001b[0;36m0\u001b[0m\u001b[0;34m,\u001b[0m \u001b[0mna\u001b[0m\u001b[0;34m=\u001b[0m\u001b[0mnp\u001b[0m\u001b[0;34m.\u001b[0m\u001b[0mnan\u001b[0m\u001b[0;34m,\u001b[0m \u001b[0mregex\u001b[0m\u001b[0;34m=\u001b[0m\u001b[0;32mTrue\u001b[0m\u001b[0;34m)\u001b[0m\u001b[0;34m:\u001b[0m\u001b[0;34m\u001b[0m\u001b[0m\n\u001b[1;32m   2416\u001b[0m         result = str_contains(self._data, pat, case=case, flags=flags, na=na,\n\u001b[0;32m-> 2417\u001b[0;31m                               regex=regex)\n\u001b[0m\u001b[1;32m   2418\u001b[0m         \u001b[0;32mreturn\u001b[0m \u001b[0mself\u001b[0m\u001b[0;34m.\u001b[0m\u001b[0m_wrap_result\u001b[0m\u001b[0;34m(\u001b[0m\u001b[0mresult\u001b[0m\u001b[0;34m)\u001b[0m\u001b[0;34m\u001b[0m\u001b[0m\n\u001b[1;32m   2419\u001b[0m \u001b[0;34m\u001b[0m\u001b[0m\n",
      "\u001b[0;32m~/anaconda3/lib/python3.7/site-packages/pandas/core/strings.py\u001b[0m in \u001b[0;36mstr_contains\u001b[0;34m(arr, pat, case, flags, na, regex)\u001b[0m\n\u001b[1;32m    385\u001b[0m             \u001b[0mflags\u001b[0m \u001b[0;34m|=\u001b[0m \u001b[0mre\u001b[0m\u001b[0;34m.\u001b[0m\u001b[0mIGNORECASE\u001b[0m\u001b[0;34m\u001b[0m\u001b[0m\n\u001b[1;32m    386\u001b[0m \u001b[0;34m\u001b[0m\u001b[0m\n\u001b[0;32m--> 387\u001b[0;31m         \u001b[0mregex\u001b[0m \u001b[0;34m=\u001b[0m \u001b[0mre\u001b[0m\u001b[0;34m.\u001b[0m\u001b[0mcompile\u001b[0m\u001b[0;34m(\u001b[0m\u001b[0mpat\u001b[0m\u001b[0;34m,\u001b[0m \u001b[0mflags\u001b[0m\u001b[0;34m=\u001b[0m\u001b[0mflags\u001b[0m\u001b[0;34m)\u001b[0m\u001b[0;34m\u001b[0m\u001b[0m\n\u001b[0m\u001b[1;32m    388\u001b[0m \u001b[0;34m\u001b[0m\u001b[0m\n\u001b[1;32m    389\u001b[0m         \u001b[0;32mif\u001b[0m \u001b[0mregex\u001b[0m\u001b[0;34m.\u001b[0m\u001b[0mgroups\u001b[0m \u001b[0;34m>\u001b[0m \u001b[0;36m0\u001b[0m\u001b[0;34m:\u001b[0m\u001b[0;34m\u001b[0m\u001b[0m\n",
      "\u001b[0;32m~/anaconda3/lib/python3.7/re.py\u001b[0m in \u001b[0;36mcompile\u001b[0;34m(pattern, flags)\u001b[0m\n\u001b[1;32m    232\u001b[0m \u001b[0;32mdef\u001b[0m \u001b[0mcompile\u001b[0m\u001b[0;34m(\u001b[0m\u001b[0mpattern\u001b[0m\u001b[0;34m,\u001b[0m \u001b[0mflags\u001b[0m\u001b[0;34m=\u001b[0m\u001b[0;36m0\u001b[0m\u001b[0;34m)\u001b[0m\u001b[0;34m:\u001b[0m\u001b[0;34m\u001b[0m\u001b[0m\n\u001b[1;32m    233\u001b[0m     \u001b[0;34m\"Compile a regular expression pattern, returning a Pattern object.\"\u001b[0m\u001b[0;34m\u001b[0m\u001b[0m\n\u001b[0;32m--> 234\u001b[0;31m     \u001b[0;32mreturn\u001b[0m \u001b[0m_compile\u001b[0m\u001b[0;34m(\u001b[0m\u001b[0mpattern\u001b[0m\u001b[0;34m,\u001b[0m \u001b[0mflags\u001b[0m\u001b[0;34m)\u001b[0m\u001b[0;34m\u001b[0m\u001b[0m\n\u001b[0m\u001b[1;32m    235\u001b[0m \u001b[0;34m\u001b[0m\u001b[0m\n\u001b[1;32m    236\u001b[0m \u001b[0;32mdef\u001b[0m \u001b[0mpurge\u001b[0m\u001b[0;34m(\u001b[0m\u001b[0;34m)\u001b[0m\u001b[0;34m:\u001b[0m\u001b[0;34m\u001b[0m\u001b[0m\n",
      "\u001b[0;32m~/anaconda3/lib/python3.7/re.py\u001b[0m in \u001b[0;36m_compile\u001b[0;34m(pattern, flags)\u001b[0m\n\u001b[1;32m    274\u001b[0m         \u001b[0mflags\u001b[0m \u001b[0;34m=\u001b[0m \u001b[0mflags\u001b[0m\u001b[0;34m.\u001b[0m\u001b[0mvalue\u001b[0m\u001b[0;34m\u001b[0m\u001b[0m\n\u001b[1;32m    275\u001b[0m     \u001b[0;32mtry\u001b[0m\u001b[0;34m:\u001b[0m\u001b[0;34m\u001b[0m\u001b[0m\n\u001b[0;32m--> 276\u001b[0;31m         \u001b[0;32mreturn\u001b[0m \u001b[0m_cache\u001b[0m\u001b[0;34m[\u001b[0m\u001b[0mtype\u001b[0m\u001b[0;34m(\u001b[0m\u001b[0mpattern\u001b[0m\u001b[0;34m)\u001b[0m\u001b[0;34m,\u001b[0m \u001b[0mpattern\u001b[0m\u001b[0;34m,\u001b[0m \u001b[0mflags\u001b[0m\u001b[0;34m]\u001b[0m\u001b[0;34m\u001b[0m\u001b[0m\n\u001b[0m\u001b[1;32m    277\u001b[0m     \u001b[0;32mexcept\u001b[0m \u001b[0mKeyError\u001b[0m\u001b[0;34m:\u001b[0m\u001b[0;34m\u001b[0m\u001b[0m\n\u001b[1;32m    278\u001b[0m         \u001b[0;32mpass\u001b[0m\u001b[0;34m\u001b[0m\u001b[0m\n",
      "\u001b[0;31mTypeError\u001b[0m: unhashable type: 'list'"
     ]
    }
   ],
   "source": [
    "#searchfor = ['locks', 'stick']\n",
    "#dropped_df2 = dropped_df[~dropped_df.item.str.contains('|'.join(searchfor))]\n",
    "#dropped_df2\n",
    "\n",
    "df = dropped_df[~dropped_df['item'].str.contains(['locks', 'stick'], flags=re.IGNORECASE)]\n",
    "df.head()"
   ]
  },
  {
   "cell_type": "code",
   "execution_count": 135,
   "metadata": {},
   "outputs": [
    {
     "data": {
      "text/html": [
       "<div>\n",
       "<style scoped>\n",
       "    .dataframe tbody tr th:only-of-type {\n",
       "        vertical-align: middle;\n",
       "    }\n",
       "\n",
       "    .dataframe tbody tr th {\n",
       "        vertical-align: top;\n",
       "    }\n",
       "\n",
       "    .dataframe thead th {\n",
       "        text-align: right;\n",
       "    }\n",
       "</style>\n",
       "<table border=\"1\" class=\"dataframe\">\n",
       "  <thead>\n",
       "    <tr style=\"text-align: right;\">\n",
       "      <th></th>\n",
       "      <th>item</th>\n",
       "      <th>price</th>\n",
       "      <th>url</th>\n",
       "    </tr>\n",
       "  </thead>\n",
       "  <tbody>\n",
       "    <tr>\n",
       "      <th>1</th>\n",
       "      <td>Master Lock Red Lock out locks</td>\n",
       "      <td>40</td>\n",
       "      <td>https://toronto.craigslist.org/yrk/tls/d/woodb...</td>\n",
       "    </tr>\n",
       "    <tr>\n",
       "      <th>2</th>\n",
       "      <td>MEN'S BLACK LEATHER STEEL-TOED SAFETY DRESS/WO...</td>\n",
       "      <td>65</td>\n",
       "      <td>https://toronto.craigslist.org/tor/tls/d/toron...</td>\n",
       "    </tr>\n",
       "    <tr>\n",
       "      <th>3</th>\n",
       "      <td>NEW! CANADA PRO-FIX 24 and 30 INCH BOW SAW BLADES</td>\n",
       "      <td>6</td>\n",
       "      <td>https://toronto.craigslist.org/tor/tls/d/new-c...</td>\n",
       "    </tr>\n",
       "    <tr>\n",
       "      <th>4</th>\n",
       "      <td>NEW!  TOOLWAY 3\" AND 4\" PAINT BRUSHES</td>\n",
       "      <td>8</td>\n",
       "      <td>https://toronto.craigslist.org/tor/tls/d/new-t...</td>\n",
       "    </tr>\n",
       "    <tr>\n",
       "      <th>5</th>\n",
       "      <td>NEW!  MATRIX 7pc NUT DRIVER SET</td>\n",
       "      <td>15</td>\n",
       "      <td>https://toronto.craigslist.org/tor/tls/d/york-...</td>\n",
       "    </tr>\n",
       "  </tbody>\n",
       "</table>\n",
       "</div>"
      ],
      "text/plain": [
       "                                                item price  \\\n",
       "1                     Master Lock Red Lock out locks    40   \n",
       "2  MEN'S BLACK LEATHER STEEL-TOED SAFETY DRESS/WO...    65   \n",
       "3  NEW! CANADA PRO-FIX 24 and 30 INCH BOW SAW BLADES     6   \n",
       "4              NEW!  TOOLWAY 3\" AND 4\" PAINT BRUSHES     8   \n",
       "5                    NEW!  MATRIX 7pc NUT DRIVER SET    15   \n",
       "\n",
       "                                                 url  \n",
       "1  https://toronto.craigslist.org/yrk/tls/d/woodb...  \n",
       "2  https://toronto.craigslist.org/tor/tls/d/toron...  \n",
       "3  https://toronto.craigslist.org/tor/tls/d/new-c...  \n",
       "4  https://toronto.craigslist.org/tor/tls/d/new-t...  \n",
       "5  https://toronto.craigslist.org/tor/tls/d/york-...  "
      ]
     },
     "execution_count": 135,
     "metadata": {},
     "output_type": "execute_result"
    }
   ],
   "source": [
    "#new_df[~new_df.item.str.contains(\"electrician\")]\n",
    "#new_df\n",
    "dropped_df = new_df[~new_df['price'].isin(['0.00'])]\n",
    "dropped_df.head()"
   ]
  },
  {
   "cell_type": "code",
   "execution_count": 136,
   "metadata": {},
   "outputs": [
    {
     "ename": "TypeError",
     "evalue": "unhashable type: 'list'",
     "output_type": "error",
     "traceback": [
      "\u001b[0;31m---------------------------------------------------------------------------\u001b[0m",
      "\u001b[0;31mTypeError\u001b[0m                                 Traceback (most recent call last)",
      "\u001b[0;32m<ipython-input-136-7c7b65a24f09>\u001b[0m in \u001b[0;36m<module>\u001b[0;34m()\u001b[0m\n\u001b[0;32m----> 1\u001b[0;31m \u001b[0mdropped_df2\u001b[0m \u001b[0;34m=\u001b[0m \u001b[0mdropped_df\u001b[0m\u001b[0;34m[\u001b[0m\u001b[0;34m~\u001b[0m\u001b[0mdropped_df\u001b[0m\u001b[0;34m[\u001b[0m\u001b[0;34m'item'\u001b[0m\u001b[0;34m]\u001b[0m\u001b[0;34m.\u001b[0m\u001b[0mstr\u001b[0m\u001b[0;34m.\u001b[0m\u001b[0mcontains\u001b[0m\u001b[0;34m(\u001b[0m\u001b[0;34m[\u001b[0m\u001b[0;34m\"locks\"\u001b[0m\u001b[0;34m,\u001b[0m \u001b[0;34m\"stick\"\u001b[0m\u001b[0;34m]\u001b[0m\u001b[0;34m,\u001b[0m \u001b[0mflags\u001b[0m\u001b[0;34m=\u001b[0m\u001b[0mre\u001b[0m\u001b[0;34m.\u001b[0m\u001b[0mIGNORECASE\u001b[0m\u001b[0;34m)\u001b[0m\u001b[0;34m]\u001b[0m\u001b[0;34m\u001b[0m\u001b[0m\n\u001b[0m\u001b[1;32m      2\u001b[0m \u001b[0mdropped_df2\u001b[0m\u001b[0;34m\u001b[0m\u001b[0m\n",
      "\u001b[0;32m~/anaconda3/lib/python3.7/site-packages/pandas/core/strings.py\u001b[0m in \u001b[0;36mcontains\u001b[0;34m(self, pat, case, flags, na, regex)\u001b[0m\n\u001b[1;32m   2415\u001b[0m     \u001b[0;32mdef\u001b[0m \u001b[0mcontains\u001b[0m\u001b[0;34m(\u001b[0m\u001b[0mself\u001b[0m\u001b[0;34m,\u001b[0m \u001b[0mpat\u001b[0m\u001b[0;34m,\u001b[0m \u001b[0mcase\u001b[0m\u001b[0;34m=\u001b[0m\u001b[0;32mTrue\u001b[0m\u001b[0;34m,\u001b[0m \u001b[0mflags\u001b[0m\u001b[0;34m=\u001b[0m\u001b[0;36m0\u001b[0m\u001b[0;34m,\u001b[0m \u001b[0mna\u001b[0m\u001b[0;34m=\u001b[0m\u001b[0mnp\u001b[0m\u001b[0;34m.\u001b[0m\u001b[0mnan\u001b[0m\u001b[0;34m,\u001b[0m \u001b[0mregex\u001b[0m\u001b[0;34m=\u001b[0m\u001b[0;32mTrue\u001b[0m\u001b[0;34m)\u001b[0m\u001b[0;34m:\u001b[0m\u001b[0;34m\u001b[0m\u001b[0m\n\u001b[1;32m   2416\u001b[0m         result = str_contains(self._data, pat, case=case, flags=flags, na=na,\n\u001b[0;32m-> 2417\u001b[0;31m                               regex=regex)\n\u001b[0m\u001b[1;32m   2418\u001b[0m         \u001b[0;32mreturn\u001b[0m \u001b[0mself\u001b[0m\u001b[0;34m.\u001b[0m\u001b[0m_wrap_result\u001b[0m\u001b[0;34m(\u001b[0m\u001b[0mresult\u001b[0m\u001b[0;34m)\u001b[0m\u001b[0;34m\u001b[0m\u001b[0m\n\u001b[1;32m   2419\u001b[0m \u001b[0;34m\u001b[0m\u001b[0m\n",
      "\u001b[0;32m~/anaconda3/lib/python3.7/site-packages/pandas/core/strings.py\u001b[0m in \u001b[0;36mstr_contains\u001b[0;34m(arr, pat, case, flags, na, regex)\u001b[0m\n\u001b[1;32m    385\u001b[0m             \u001b[0mflags\u001b[0m \u001b[0;34m|=\u001b[0m \u001b[0mre\u001b[0m\u001b[0;34m.\u001b[0m\u001b[0mIGNORECASE\u001b[0m\u001b[0;34m\u001b[0m\u001b[0m\n\u001b[1;32m    386\u001b[0m \u001b[0;34m\u001b[0m\u001b[0m\n\u001b[0;32m--> 387\u001b[0;31m         \u001b[0mregex\u001b[0m \u001b[0;34m=\u001b[0m \u001b[0mre\u001b[0m\u001b[0;34m.\u001b[0m\u001b[0mcompile\u001b[0m\u001b[0;34m(\u001b[0m\u001b[0mpat\u001b[0m\u001b[0;34m,\u001b[0m \u001b[0mflags\u001b[0m\u001b[0;34m=\u001b[0m\u001b[0mflags\u001b[0m\u001b[0;34m)\u001b[0m\u001b[0;34m\u001b[0m\u001b[0m\n\u001b[0m\u001b[1;32m    388\u001b[0m \u001b[0;34m\u001b[0m\u001b[0m\n\u001b[1;32m    389\u001b[0m         \u001b[0;32mif\u001b[0m \u001b[0mregex\u001b[0m\u001b[0;34m.\u001b[0m\u001b[0mgroups\u001b[0m \u001b[0;34m>\u001b[0m \u001b[0;36m0\u001b[0m\u001b[0;34m:\u001b[0m\u001b[0;34m\u001b[0m\u001b[0m\n",
      "\u001b[0;32m~/anaconda3/lib/python3.7/re.py\u001b[0m in \u001b[0;36mcompile\u001b[0;34m(pattern, flags)\u001b[0m\n\u001b[1;32m    232\u001b[0m \u001b[0;32mdef\u001b[0m \u001b[0mcompile\u001b[0m\u001b[0;34m(\u001b[0m\u001b[0mpattern\u001b[0m\u001b[0;34m,\u001b[0m \u001b[0mflags\u001b[0m\u001b[0;34m=\u001b[0m\u001b[0;36m0\u001b[0m\u001b[0;34m)\u001b[0m\u001b[0;34m:\u001b[0m\u001b[0;34m\u001b[0m\u001b[0m\n\u001b[1;32m    233\u001b[0m     \u001b[0;34m\"Compile a regular expression pattern, returning a Pattern object.\"\u001b[0m\u001b[0;34m\u001b[0m\u001b[0m\n\u001b[0;32m--> 234\u001b[0;31m     \u001b[0;32mreturn\u001b[0m \u001b[0m_compile\u001b[0m\u001b[0;34m(\u001b[0m\u001b[0mpattern\u001b[0m\u001b[0;34m,\u001b[0m \u001b[0mflags\u001b[0m\u001b[0;34m)\u001b[0m\u001b[0;34m\u001b[0m\u001b[0m\n\u001b[0m\u001b[1;32m    235\u001b[0m \u001b[0;34m\u001b[0m\u001b[0m\n\u001b[1;32m    236\u001b[0m \u001b[0;32mdef\u001b[0m \u001b[0mpurge\u001b[0m\u001b[0;34m(\u001b[0m\u001b[0;34m)\u001b[0m\u001b[0;34m:\u001b[0m\u001b[0;34m\u001b[0m\u001b[0m\n",
      "\u001b[0;32m~/anaconda3/lib/python3.7/re.py\u001b[0m in \u001b[0;36m_compile\u001b[0;34m(pattern, flags)\u001b[0m\n\u001b[1;32m    274\u001b[0m         \u001b[0mflags\u001b[0m \u001b[0;34m=\u001b[0m \u001b[0mflags\u001b[0m\u001b[0;34m.\u001b[0m\u001b[0mvalue\u001b[0m\u001b[0;34m\u001b[0m\u001b[0m\n\u001b[1;32m    275\u001b[0m     \u001b[0;32mtry\u001b[0m\u001b[0;34m:\u001b[0m\u001b[0;34m\u001b[0m\u001b[0m\n\u001b[0;32m--> 276\u001b[0;31m         \u001b[0;32mreturn\u001b[0m \u001b[0m_cache\u001b[0m\u001b[0;34m[\u001b[0m\u001b[0mtype\u001b[0m\u001b[0;34m(\u001b[0m\u001b[0mpattern\u001b[0m\u001b[0;34m)\u001b[0m\u001b[0;34m,\u001b[0m \u001b[0mpattern\u001b[0m\u001b[0;34m,\u001b[0m \u001b[0mflags\u001b[0m\u001b[0;34m]\u001b[0m\u001b[0;34m\u001b[0m\u001b[0m\n\u001b[0m\u001b[1;32m    277\u001b[0m     \u001b[0;32mexcept\u001b[0m \u001b[0mKeyError\u001b[0m\u001b[0;34m:\u001b[0m\u001b[0;34m\u001b[0m\u001b[0m\n\u001b[1;32m    278\u001b[0m         \u001b[0;32mpass\u001b[0m\u001b[0;34m\u001b[0m\u001b[0m\n",
      "\u001b[0;31mTypeError\u001b[0m: unhashable type: 'list'"
     ]
    }
   ],
   "source": [
    "dropped_df2 = dropped_df[~dropped_df['item'].str.contains([\"locks\", \"stick\"], flags=re.IGNORECASE)]\n",
    "dropped_df2"
   ]
  },
  {
   "cell_type": "code",
   "execution_count": 137,
   "metadata": {},
   "outputs": [
    {
     "data": {
      "text/plain": [
       "482607.0"
      ]
     },
     "execution_count": 137,
     "metadata": {},
     "output_type": "execute_result"
    }
   ],
   "source": [
    "#new_df.dtypes\n",
    "new_df[\"price\"] = new_df.price.astype(float)\n",
    "new_df\n",
    "\n",
    "total = new_df[\"price\"].sum()\n",
    "total"
   ]
  },
  {
   "cell_type": "code",
   "execution_count": 36,
   "metadata": {},
   "outputs": [],
   "source": [
    "# output to csv\n",
    "query_df.to_csv('csv_outputs/craigslist_' + query + '.csv')"
   ]
  },
  {
   "cell_type": "code",
   "execution_count": 37,
   "metadata": {},
   "outputs": [
    {
     "name": "stdout",
     "output_type": "stream",
     "text": [
      "-----Done-------\n"
     ]
    }
   ],
   "source": [
    "print('-----Done-------')"
   ]
  },
  {
   "cell_type": "code",
   "execution_count": null,
   "metadata": {},
   "outputs": [],
   "source": []
  }
 ],
 "metadata": {
  "kernelspec": {
   "display_name": "Python 3",
   "language": "python",
   "name": "python3"
  },
  "language_info": {
   "codemirror_mode": {
    "name": "ipython",
    "version": 3
   },
   "file_extension": ".py",
   "mimetype": "text/x-python",
   "name": "python",
   "nbconvert_exporter": "python",
   "pygments_lexer": "ipython3",
   "version": "3.7.0"
  }
 },
 "nbformat": 4,
 "nbformat_minor": 2
}
